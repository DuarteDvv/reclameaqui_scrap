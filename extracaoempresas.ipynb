{
 "cells": [
  {
   "cell_type": "code",
   "execution_count": 8,
   "metadata": {},
   "outputs": [],
   "source": [
    "# Scrapping from reclameaqui.com.br\n",
    "import pandas as pd\n",
    "import time\n",
    "import random\n",
    "from selenium.webdriver.firefox.options import Options\n",
    "from selenium.webdriver.firefox.service import Service\n",
    "import os\n",
    "from selenium.webdriver.common.by import By\n",
    "import undetected_chromedriver as uc\n",
    "import setuptools._distutils\n",
    "\n"
   ]
  },
  {
   "cell_type": "code",
   "execution_count": 9,
   "metadata": {},
   "outputs": [],
   "source": [
    "# pegando as empresas de Bancos e financeiras\n",
    "\n",
    "segmentos =  ['https://www.reclameaqui.com.br/segmentos/bancos-e-financeiras/bancos-digitais/',\n",
    "   'https://www.reclameaqui.com.br/segmentos/bancos-e-financeiras/bancos-tradicionais-e-digitais/',\n",
    "   'https://www.reclameaqui.com.br/segmentos/bancos-e-financeiras/bancos-com-servicos-internacionais/',\n",
    "   'https://www.reclameaqui.com.br/segmentos/bancos-e-financeiras/capitalizacao/',\n",
    "   'https://www.reclameaqui.com.br/segmentos/bancos-e-financeiras/cartoes-de-credito/',\n",
    "   'https://www.reclameaqui.com.br/segmentos/bancos-e-financeiras/cartoes-de-beneficios/',\n",
    "   'https://www.reclameaqui.com.br/segmentos/bancos-e-financeiras/consorcios/',\n",
    "   'https://www.reclameaqui.com.br/segmentos/bancos-e-financeiras/corretoras-e-bancos-de-investimentos/',\n",
    "   'https://www.reclameaqui.com.br/segmentos/bancos-e-financeiras/criptomoedas/',\n",
    "   'https://www.reclameaqui.com.br/segmentos/bancos-e-financeiras/emprestimo/',\n",
    "   'https://www.reclameaqui.com.br/segmentos/bancos-e-financeiras/financiamento/',\n",
    "   'https://www.reclameaqui.com.br/segmentos/bancos-e-financeiras/forex/',\n",
    "   'https://www.reclameaqui.com.br/segmentos/bancos-e-financeiras/meios-de-pagamento-eletronico/',\n",
    "   'https://www.reclameaqui.com.br/segmentos/bancos-e-financeiras/emissoras-e-bandeiras-cartao-de-credito/'\n",
    "   ]"
   ]
  },
  {
   "cell_type": "code",
   "execution_count": 10,
   "metadata": {},
   "outputs": [
    {
     "ename": "InvalidSessionIdException",
     "evalue": "Message: invalid session id: session deleted as the browser has closed the connection\nfrom disconnected: not connected to DevTools\n  (Session info: chrome=134.0.6998.166)\nStacktrace:\n\tGetHandleVerifier [0x00C4C7F3+24435]\n\t(No symbol) [0x00BD2074]\n\t(No symbol) [0x00AA06E3]\n\t(No symbol) [0x00A8FEC0]\n\t(No symbol) [0x00AADFDF]\n\t(No symbol) [0x00B146AF]\n\t(No symbol) [0x00B2EB19]\n\t(No symbol) [0x00B0D5B6]\n\t(No symbol) [0x00ADC54F]\n\t(No symbol) [0x00ADD894]\n\tGetHandleVerifier [0x00F570A3+3213347]\n\tGetHandleVerifier [0x00F6B0C9+3295305]\n\tGetHandleVerifier [0x00F6558C+3271948]\n\tGetHandleVerifier [0x00CE7360+658144]\n\t(No symbol) [0x00BDB27D]\n\t(No symbol) [0x00BD8208]\n\t(No symbol) [0x00BD83A9]\n\t(No symbol) [0x00BCAAC0]\n\tBaseThreadInitThunk [0x75387BA9+25]\n\tRtlInitializeExceptionChain [0x7749C2EB+107]\n\tRtlClearBits [0x7749C26F+191]\n",
     "output_type": "error",
     "traceback": [
      "\u001b[1;31m---------------------------------------------------------------------------\u001b[0m",
      "\u001b[1;31mInvalidSessionIdException\u001b[0m                 Traceback (most recent call last)",
      "Cell \u001b[1;32mIn[10], line 13\u001b[0m\n\u001b[0;32m     10\u001b[0m time\u001b[38;5;241m.\u001b[39msleep(\u001b[38;5;241m5\u001b[39m)\n\u001b[0;32m     12\u001b[0m \u001b[38;5;66;03m# pega as divs dos hyperlinks\u001b[39;00m\n\u001b[1;32m---> 13\u001b[0m div_empresas \u001b[38;5;241m=\u001b[39m \u001b[43mdriver\u001b[49m\u001b[38;5;241;43m.\u001b[39;49m\u001b[43mfind_elements\u001b[49m\u001b[43m(\u001b[49m\u001b[43mBy\u001b[49m\u001b[38;5;241;43m.\u001b[39;49m\u001b[43mCLASS_NAME\u001b[49m\u001b[43m,\u001b[49m\u001b[43m \u001b[49m\u001b[38;5;124;43m'\u001b[39;49m\u001b[38;5;124;43mgo1386077902 ranking-item-company-name\u001b[39;49m\u001b[38;5;124;43m'\u001b[39;49m\u001b[43m)\u001b[49m\n\u001b[0;32m     15\u001b[0m \u001b[38;5;66;03m# pega os hyperlinks\u001b[39;00m\n\u001b[0;32m     16\u001b[0m \u001b[38;5;28;01mfor\u001b[39;00m e \u001b[38;5;129;01min\u001b[39;00m div_empresas:\n",
      "File \u001b[1;32mc:\\Users\\sousa\\miniconda3\\Lib\\site-packages\\selenium\\webdriver\\remote\\webdriver.py:936\u001b[0m, in \u001b[0;36mWebDriver.find_elements\u001b[1;34m(self, by, value)\u001b[0m\n\u001b[0;32m    932\u001b[0m     \u001b[38;5;28;01mreturn\u001b[39;00m \u001b[38;5;28mself\u001b[39m\u001b[38;5;241m.\u001b[39mexecute_script(find_element_js, by\u001b[38;5;241m.\u001b[39mto_dict())\n\u001b[0;32m    934\u001b[0m \u001b[38;5;66;03m# Return empty list if driver returns null\u001b[39;00m\n\u001b[0;32m    935\u001b[0m \u001b[38;5;66;03m# See https://github.com/SeleniumHQ/selenium/issues/4555\u001b[39;00m\n\u001b[1;32m--> 936\u001b[0m \u001b[38;5;28;01mreturn\u001b[39;00m \u001b[38;5;28;43mself\u001b[39;49m\u001b[38;5;241;43m.\u001b[39;49m\u001b[43mexecute\u001b[49m\u001b[43m(\u001b[49m\u001b[43mCommand\u001b[49m\u001b[38;5;241;43m.\u001b[39;49m\u001b[43mFIND_ELEMENTS\u001b[49m\u001b[43m,\u001b[49m\u001b[43m \u001b[49m\u001b[43m{\u001b[49m\u001b[38;5;124;43m\"\u001b[39;49m\u001b[38;5;124;43musing\u001b[39;49m\u001b[38;5;124;43m\"\u001b[39;49m\u001b[43m:\u001b[49m\u001b[43m \u001b[49m\u001b[43mby\u001b[49m\u001b[43m,\u001b[49m\u001b[43m \u001b[49m\u001b[38;5;124;43m\"\u001b[39;49m\u001b[38;5;124;43mvalue\u001b[39;49m\u001b[38;5;124;43m\"\u001b[39;49m\u001b[43m:\u001b[49m\u001b[43m \u001b[49m\u001b[43mvalue\u001b[49m\u001b[43m}\u001b[49m\u001b[43m)\u001b[49m[\u001b[38;5;124m\"\u001b[39m\u001b[38;5;124mvalue\u001b[39m\u001b[38;5;124m\"\u001b[39m] \u001b[38;5;129;01mor\u001b[39;00m []\n",
      "File \u001b[1;32mc:\\Users\\sousa\\miniconda3\\Lib\\site-packages\\selenium\\webdriver\\remote\\webdriver.py:429\u001b[0m, in \u001b[0;36mWebDriver.execute\u001b[1;34m(self, driver_command, params)\u001b[0m\n\u001b[0;32m    427\u001b[0m response \u001b[38;5;241m=\u001b[39m \u001b[38;5;28mself\u001b[39m\u001b[38;5;241m.\u001b[39mcommand_executor\u001b[38;5;241m.\u001b[39mexecute(driver_command, params)\n\u001b[0;32m    428\u001b[0m \u001b[38;5;28;01mif\u001b[39;00m response:\n\u001b[1;32m--> 429\u001b[0m     \u001b[38;5;28;43mself\u001b[39;49m\u001b[38;5;241;43m.\u001b[39;49m\u001b[43merror_handler\u001b[49m\u001b[38;5;241;43m.\u001b[39;49m\u001b[43mcheck_response\u001b[49m\u001b[43m(\u001b[49m\u001b[43mresponse\u001b[49m\u001b[43m)\u001b[49m\n\u001b[0;32m    430\u001b[0m     response[\u001b[38;5;124m\"\u001b[39m\u001b[38;5;124mvalue\u001b[39m\u001b[38;5;124m\"\u001b[39m] \u001b[38;5;241m=\u001b[39m \u001b[38;5;28mself\u001b[39m\u001b[38;5;241m.\u001b[39m_unwrap_value(response\u001b[38;5;241m.\u001b[39mget(\u001b[38;5;124m\"\u001b[39m\u001b[38;5;124mvalue\u001b[39m\u001b[38;5;124m\"\u001b[39m, \u001b[38;5;28;01mNone\u001b[39;00m))\n\u001b[0;32m    431\u001b[0m     \u001b[38;5;28;01mreturn\u001b[39;00m response\n",
      "File \u001b[1;32mc:\\Users\\sousa\\miniconda3\\Lib\\site-packages\\selenium\\webdriver\\remote\\errorhandler.py:232\u001b[0m, in \u001b[0;36mErrorHandler.check_response\u001b[1;34m(self, response)\u001b[0m\n\u001b[0;32m    230\u001b[0m         alert_text \u001b[38;5;241m=\u001b[39m value[\u001b[38;5;124m\"\u001b[39m\u001b[38;5;124malert\u001b[39m\u001b[38;5;124m\"\u001b[39m]\u001b[38;5;241m.\u001b[39mget(\u001b[38;5;124m\"\u001b[39m\u001b[38;5;124mtext\u001b[39m\u001b[38;5;124m\"\u001b[39m)\n\u001b[0;32m    231\u001b[0m     \u001b[38;5;28;01mraise\u001b[39;00m exception_class(message, screen, stacktrace, alert_text)  \u001b[38;5;66;03m# type: ignore[call-arg]  # mypy is not smart enough here\u001b[39;00m\n\u001b[1;32m--> 232\u001b[0m \u001b[38;5;28;01mraise\u001b[39;00m exception_class(message, screen, stacktrace)\n",
      "\u001b[1;31mInvalidSessionIdException\u001b[0m: Message: invalid session id: session deleted as the browser has closed the connection\nfrom disconnected: not connected to DevTools\n  (Session info: chrome=134.0.6998.166)\nStacktrace:\n\tGetHandleVerifier [0x00C4C7F3+24435]\n\t(No symbol) [0x00BD2074]\n\t(No symbol) [0x00AA06E3]\n\t(No symbol) [0x00A8FEC0]\n\t(No symbol) [0x00AADFDF]\n\t(No symbol) [0x00B146AF]\n\t(No symbol) [0x00B2EB19]\n\t(No symbol) [0x00B0D5B6]\n\t(No symbol) [0x00ADC54F]\n\t(No symbol) [0x00ADD894]\n\tGetHandleVerifier [0x00F570A3+3213347]\n\tGetHandleVerifier [0x00F6B0C9+3295305]\n\tGetHandleVerifier [0x00F6558C+3271948]\n\tGetHandleVerifier [0x00CE7360+658144]\n\t(No symbol) [0x00BDB27D]\n\t(No symbol) [0x00BD8208]\n\t(No symbol) [0x00BD83A9]\n\t(No symbol) [0x00BCAAC0]\n\tBaseThreadInitThunk [0x75387BA9+25]\n\tRtlInitializeExceptionChain [0x7749C2EB+107]\n\tRtlClearBits [0x7749C26F+191]\n"
     ]
    }
   ],
   "source": [
    "empresas : set = set()\n",
    "\n",
    "driver = uc.Chrome()\n",
    "\n",
    "for segmento in segmentos:\n",
    "   \n",
    "   \n",
    "   driver.get(segmento)\n",
    "   \n",
    "   time.sleep(5)\n",
    "   \n",
    "   # pega as divs dos hyperlinks\n",
    "   div_empresas = driver.find_elements(By.CLASS_NAME, 'go1386077902 ranking-item-company-name')\n",
    "   \n",
    "   # pega os hyperlinks\n",
    "   for e in div_empresas:\n",
    "      \n",
    "      hyref = e.get_attribute('href')\n",
    "      print(hyref)\n",
    "      empresas.add(hyref)\n",
    "      \n",
    "      \n",
    "   \n",
    "   \n",
    "   \n",
    "   \n",
    "   \n",
    "\n",
    "\n",
    "\n",
    "driver.quit()\n",
    "\n",
    "\n",
    "   \n",
    "   "
   ]
  }
 ],
 "metadata": {
  "kernelspec": {
   "display_name": "base",
   "language": "python",
   "name": "python3"
  },
  "language_info": {
   "codemirror_mode": {
    "name": "ipython",
    "version": 3
   },
   "file_extension": ".py",
   "mimetype": "text/x-python",
   "name": "python",
   "nbconvert_exporter": "python",
   "pygments_lexer": "ipython3",
   "version": "3.12.9"
  }
 },
 "nbformat": 4,
 "nbformat_minor": 2
}
