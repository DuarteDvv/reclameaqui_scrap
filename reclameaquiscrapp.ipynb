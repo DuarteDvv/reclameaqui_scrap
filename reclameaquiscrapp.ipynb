{
 "cells": [
  {
   "cell_type": "code",
   "execution_count": 16,
   "metadata": {},
   "outputs": [],
   "source": [
    "# Scrapping from reclameaqui.com.br\n",
    "\n",
    "from bs4 import BeautifulSoup\n",
    "import pandas as pd\n",
    "import time\n",
    "import asyncio\n",
    "\n",
    "# 'playwright install' para instalar os drivers do navegador\n",
    "from playwright.async_api import async_playwright\n"
   ]
  },
  {
   "cell_type": "code",
   "execution_count": 17,
   "metadata": {},
   "outputs": [],
   "source": [
    "# nome da empresa seguindo convenção do site reclameaqui.com.br\n",
    "empresa : str = 'temu'\n",
    "\n",
    "# URL da pagina principal da empresa\n",
    "url_p = 'https://www.reclameaqui.com.br/empresa/' + empresa + '/'\n",
    "\n",
    "# URL da pagina de reclamações da empresa\n",
    "url_r = 'https://www.reclameaqui.com.br/empresa/' + empresa + '/lista-reclamacoes/'\n"
   ]
  },
  {
   "cell_type": "code",
   "execution_count": null,
   "metadata": {},
   "outputs": [
    {
     "ename": "AttributeError",
     "evalue": "'Page' object has no attribute 'waitForSelector'",
     "output_type": "error",
     "traceback": [
      "\u001b[31m---------------------------------------------------------------------------\u001b[39m",
      "\u001b[31mAttributeError\u001b[39m                            Traceback (most recent call last)",
      "\u001b[36mCell\u001b[39m\u001b[36m \u001b[39m\u001b[32mIn[21]\u001b[39m\u001b[32m, line 36\u001b[39m\n\u001b[32m     32\u001b[39m       \u001b[38;5;28;01mawait\u001b[39;00m browser.close()\n\u001b[32m     33\u001b[39m       \u001b[38;5;28;01mreturn\u001b[39;00m metadata\n\u001b[32m---> \u001b[39m\u001b[32m36\u001b[39m metadata = \u001b[38;5;28;01mawait\u001b[39;00m get_metadata(url_p)\n\u001b[32m     37\u001b[39m \u001b[38;5;28mprint\u001b[39m(metadata)\n",
      "\u001b[36mCell\u001b[39m\u001b[36m \u001b[39m\u001b[32mIn[21]\u001b[39m\u001b[32m, line 11\u001b[39m, in \u001b[36mget_metadata\u001b[39m\u001b[34m(url)\u001b[39m\n\u001b[32m      7\u001b[39m page = \u001b[38;5;28;01mawait\u001b[39;00m browser.new_page()\n\u001b[32m     10\u001b[39m \u001b[38;5;28;01mawait\u001b[39;00m page.goto(url, wait_until=\u001b[33m'\u001b[39m\u001b[33mdomcontentloaded\u001b[39m\u001b[33m'\u001b[39m)\n\u001b[32m---> \u001b[39m\u001b[32m11\u001b[39m \u001b[38;5;28;01mawait\u001b[39;00m \u001b[43mpage\u001b[49m\u001b[43m.\u001b[49m\u001b[43mwaitForSelector\u001b[49m(\u001b[33m'\u001b[39m\u001b[33ma#info_segmento_hero\u001b[39m\u001b[33m'\u001b[39m)\n\u001b[32m     14\u001b[39m \u001b[38;5;66;03m# Pega o HTML renderizado\u001b[39;00m\n\u001b[32m     15\u001b[39m html = \u001b[38;5;28;01mawait\u001b[39;00m page.content()\n",
      "\u001b[31mAttributeError\u001b[39m: 'Page' object has no attribute 'waitForSelector'"
     ]
    }
   ],
   "source": [
    "# pegando metadados da empresa (nome, categoria, reputação, sobre, desempenho_geral)\n",
    "async def get_metadata(url):\n",
    "   async with async_playwright() as p:\n",
    "      \n",
    "      # inicializa o navegador e a página\n",
    "      browser = await p.chromium.launch(headless=True)\n",
    "      page = await browser.new_page()\n",
    "      \n",
    "      \n",
    "      await page.goto(url, wait_until='domcontentloaded')\n",
    "      \n",
    "      \n",
    "      \n",
    "      # Pega o HTML renderizado\n",
    "      html = await page.content()\n",
    "      soup = BeautifulSoup(html, 'html.parser')\n",
    "\n",
    "      # pegar categoria\n",
    "      categoria = soup.find('a', id='info_segmento_hero')\n",
    "      print(categoria.text)\n",
    "      \n",
    "      \n",
    "\n",
    "      metadata = {\n",
    "         'nome': empresa,\n",
    "         'categoria': None,         \n",
    "         'reputacao': None,         \n",
    "         'sobre': None,             \n",
    "         'desempenho_geral': None   \n",
    "      }\n",
    "      \n",
    "      await browser.close()\n",
    "      return metadata\n",
    "\n",
    "\n",
    "metadata = await get_metadata(url_p)\n",
    "print(metadata)"
   ]
  }
 ],
 "metadata": {
  "kernelspec": {
   "display_name": "meu_ambiente",
   "language": "python",
   "name": "python3"
  },
  "language_info": {
   "codemirror_mode": {
    "name": "ipython",
    "version": 3
   },
   "file_extension": ".py",
   "mimetype": "text/x-python",
   "name": "python",
   "nbconvert_exporter": "python",
   "pygments_lexer": "ipython3",
   "version": "3.12.9"
  }
 },
 "nbformat": 4,
 "nbformat_minor": 2
}
