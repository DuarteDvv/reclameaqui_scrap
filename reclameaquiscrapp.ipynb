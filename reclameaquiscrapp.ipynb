{
 "cells": [
  {
   "cell_type": "code",
   "execution_count": 54,
   "metadata": {},
   "outputs": [],
   "source": [
    "# Scrapping from reclameaqui.com.br\n",
    "import pandas as pd\n",
    "import time\n",
    "from selenium import webdriver\n",
    "from selenium.webdriver.firefox.options import Options\n",
    "from selenium.webdriver.firefox.service import Service\n",
    "import os\n",
    "\n",
    "from selenium.webdriver.common.by import By\n"
   ]
  },
  {
   "cell_type": "code",
   "execution_count": 55,
   "metadata": {},
   "outputs": [],
   "source": [
    "# nome da empresa seguindo convenção do site reclameaqui.com.br\n",
    "empresa : str = 'temu'\n",
    "\n",
    "# URL da pagina principal da empresa\n",
    "url_p = 'https://www.reclameaqui.com.br/empresa/' + empresa + '/'\n",
    "\n",
    "# URL da pagina de reclamações da empresa\n",
    "url_r = 'https://www.reclameaqui.com.br/empresa/' + empresa + '/lista-reclamacoes/?status=ANSWERED'\n",
    "\n"
   ]
  },
  {
   "cell_type": "code",
   "execution_count": 56,
   "metadata": {},
   "outputs": [],
   "source": [
    "# Configurações do navegador\n",
    "ff_options = Options()\n",
    "ff_options.headless = False\n",
    "\n",
    "# Configurações do serviço\n",
    "if os.name == 'nt': # Windows\n",
    "    service = Service('./geckodriver.exe')\n",
    "else: # Linux\n",
    "    service = Service('./geckodriver')\n",
    "\n",
    "\n",
    "\n"
   ]
  },
  {
   "cell_type": "code",
   "execution_count": 57,
   "metadata": {},
   "outputs": [
    {
     "name": "stdout",
     "output_type": "stream",
     "text": [
      "{'nome': 'temu', 'categoria': 'Varejo', 'reputacao': 'Não Recomendada', 'sobre': 'A Temu é uma empresa de comércio eletrônico que conecta consumidores a milhões de parceiros de mercadorias, fabricantes e marcas com a missão de capacitá-los a viver uma vida melhor.'}\n"
     ]
    }
   ],
   "source": [
    "# pegando metadados da empresa (nome, categoria, reputação, sobre)\n",
    "try:\n",
    "\n",
    "   # driver\n",
    "   driver = webdriver.Firefox(options=ff_options, service=service)\n",
    "   \n",
    "   # acessando a pagina principal da empresa\n",
    "   driver.get(url_p)\n",
    "      \n",
    "   # ramo de atividade da empresa\n",
    "   categoria = driver.find_element(By.ID, 'info_segmento_hero').text\n",
    "\n",
    "   # reputação da empresa\n",
    "   reputacao = driver.find_element(By.ID, 'tag_reputacao_hero').text\n",
    "\n",
    "   # sobre a empresa\n",
    "   sobre = driver.find_element(By.CSS_SELECTOR, 'ul.sc-1915fv4-2.idgfcC').text\n",
    "   sobre = sobre.split(\"\\n\")[0] \n",
    "\n",
    "   metadata = {\n",
    "      'nome': empresa,\n",
    "      'categoria': categoria,         \n",
    "      'reputacao': reputacao,         \n",
    "      'sobre': sobre       \n",
    "   }\n",
    "\n",
    "finally:\n",
    "\n",
    "   driver.quit()\n",
    "\n",
    "\n",
    "print(metadata)"
   ]
  },
  {
   "cell_type": "code",
   "execution_count": null,
   "metadata": {},
   "outputs": [
    {
     "name": "stdout",
     "output_type": "stream",
     "text": [
      "[<selenium.webdriver.remote.webelement.WebElement (session=\"114187ea-7d57-4642-a3a9-4ee5647908c7\", element=\"742704a1-5110-4a75-a78b-02c613758aa2\")>]\n",
      "fim\n"
     ]
    }
   ],
   "source": [
    "# pegando hyperlinks das reclamações respondidas\n",
    "try:\n",
    "    # driver\n",
    "    driver = webdriver.Firefox(options=ff_options, service=service)\n",
    "    \n",
    "    # acessando a pagina de reclamações respondidas\n",
    "    driver.get(url_r)\n",
    "        \n",
    "    # numero de abas de reclamações respondidas\n",
    "    num_abas = driver.find_elements(By.CSS_SELECTOR, 'span.sc-fAGzit.XgFJr')\n",
    "\n",
    "    print(num_abas)\n",
    "\n",
    "finally:\n",
    "    print('fim')\n",
    "    #driver.quit()"
   ]
  },
  {
   "cell_type": "code",
   "execution_count": null,
   "metadata": {},
   "outputs": [
    {
     "ename": "AttributeError",
     "evalue": "'list' object has no attribute 'text'",
     "output_type": "error",
     "traceback": [
      "\u001b[31m---------------------------------------------------------------------------\u001b[39m",
      "\u001b[31mAttributeError\u001b[39m                            Traceback (most recent call last)",
      "\u001b[36mCell\u001b[39m\u001b[36m \u001b[39m\u001b[32mIn[59]\u001b[39m\u001b[32m, line 1\u001b[39m\n\u001b[32m----> \u001b[39m\u001b[32m1\u001b[39m \u001b[38;5;28mprint\u001b[39m(\u001b[43mnum_abas\u001b[49m\u001b[43m.\u001b[49m\u001b[43mtext\u001b[49m)\n",
      "\u001b[31mAttributeError\u001b[39m: 'list' object has no attribute 'text'"
     ]
    }
   ],
   "source": [
    "# pegando dados das reclamações respondidas\n",
    "try:\n",
    "    # driver\n",
    "    driver = webdriver.Firefox(options=ff_options, service=service)\n",
    "    \n",
    "    \n",
    "\n",
    "finally:\n",
    "   \n",
    "    driver.quit()"
   ]
  }
 ],
 "metadata": {
  "kernelspec": {
   "display_name": "meu_ambiente",
   "language": "python",
   "name": "python3"
  },
  "language_info": {
   "codemirror_mode": {
    "name": "ipython",
    "version": 3
   },
   "file_extension": ".py",
   "mimetype": "text/x-python",
   "name": "python",
   "nbconvert_exporter": "python",
   "pygments_lexer": "ipython3",
   "version": "3.12.9"
  }
 },
 "nbformat": 4,
 "nbformat_minor": 2
}
