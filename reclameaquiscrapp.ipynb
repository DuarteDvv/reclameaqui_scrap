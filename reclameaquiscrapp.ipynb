{
 "cells": [
  {
   "cell_type": "code",
   "execution_count": 212,
   "metadata": {},
   "outputs": [],
   "source": [
    "# Scrapping from reclameaqui.com.br\n",
    "import pandas as pd\n",
    "import time\n",
    "import random\n",
    "from selenium.webdriver.firefox.options import Options\n",
    "from selenium.webdriver.firefox.service import Service\n",
    "import os\n",
    "from selenium.webdriver.common.by import By\n",
    "import undetected_chromedriver as uc\n"
   ]
  },
  {
   "cell_type": "code",
   "execution_count": 213,
   "metadata": {},
   "outputs": [],
   "source": [
    "# nome da empresa seguindo convenção do site reclameaqui.com.br\n",
    "empresa : str = 'temu'\n",
    "\n",
    "# URL da pagina principal da empresa\n",
    "url_p = 'https://www.reclameaqui.com.br/empresa/' + empresa + '/'\n",
    "\n",
    "# URL da pagina de reclamações da empresa\n",
    "def url_r(page : int, type : str = 'EVALUATED') -> str:\n",
    "\n",
    "    # https://www.reclameaqui.com.br/empresa/temu/lista-reclamacoes/?pagina=1&status=EVALUATED\n",
    "    return 'https://www.reclameaqui.com.br/empresa/' + empresa + '/lista-reclamacoes/?pagina='+ str(page) +'&status=' + type\n",
    "\n"
   ]
  },
  {
   "cell_type": "code",
   "execution_count": 214,
   "metadata": {},
   "outputs": [
    {
     "name": "stdout",
     "output_type": "stream",
     "text": [
      "{'nome': 'temu', 'categoria': 'Varejo', 'reputacao': 'Não Recomendada', 'sobre': 'A Temu é uma empresa de comércio eletrônico que conecta consumidores a milhões de parceiros de mercadorias, fabricantes e marcas com a missão de capacitá-los a viver uma vida melhor.'}\n"
     ]
    }
   ],
   "source": [
    "# pegando metadados da empresa (nome, categoria, reputação, sobre)\n",
    "\n",
    "# driver\n",
    "driver = uc.Chrome()\n",
    "\n",
    "# acessando a pagina principal da empresa\n",
    "driver.get(url_p)\n",
    "\n",
    "time.sleep(random.randint(4,6))\n",
    "   \n",
    "# ramo de atividade da empresa\n",
    "categoria = driver.find_element(By.ID, 'info_segmento_hero').text\n",
    "\n",
    "# reputação da empresa\n",
    "reputacao = driver.find_element(By.ID, 'tag_reputacao_hero').text\n",
    "\n",
    "# sobre a empresa\n",
    "sobre = driver.find_element(By.CSS_SELECTOR, 'ul.sc-1915fv4-2.idgfcC').text\n",
    "sobre = sobre.split(\"\\n\")[0] \n",
    "\n",
    "metadata = {\n",
    "   'nome': empresa,\n",
    "   'categoria': categoria,         \n",
    "   'reputacao': reputacao,         \n",
    "   'sobre': sobre       \n",
    "}\n",
    "\n",
    "\n",
    "print(metadata)\n"
   ]
  },
  {
   "cell_type": "code",
   "execution_count": null,
   "metadata": {},
   "outputs": [
    {
     "name": "stdout",
     "output_type": "stream",
     "text": [
      "['https://www.reclameaqui.com.br/temu/falta-de-responsabilidade_5bTwGuxms9Sl0JCd/', 'https://www.reclameaqui.com.br/temu/sac-eficiente_JsGpE1prTRL_lMdC/', 'https://www.reclameaqui.com.br/temu/propaganda-enganosa-e-tapeacao_ahoMy1O6H1draEaN/', 'https://www.reclameaqui.com.br/temu/fiz-uma-compra-errada-e-a-temu-nao-me-fez-o-reembolso-para-a-minha-contae-deixou-meu-saldo-em-credito-para-comprar-la-e-esta-mostrando-q-eu-nao-tenho-saldo-em-credito-e-esta-uma-dificuldade-para-resgatar-o-saldo-e-comprar-c-esse-valor-de-5617_GUxnexidxIeRaWlC/', 'https://www.reclameaqui.com.br/temu/meu-pedido-nao-aparece-depois-do-pagamento_iwoT9eoFLQZzmbR8/', 'https://www.reclameaqui.com.br/temu/pagamento-sem-a-mercadoria_9X_aIkSlplmBxk6x/', 'https://www.reclameaqui.com.br/temu/entregador-mentindo_yUDXAMi-nyJjk5pY/', 'https://www.reclameaqui.com.br/temu/empresa-ficou-com-meu-credito-de-reembolso_x-ru7EKAKsSkjrzy/', 'https://www.reclameaqui.com.br/temu/produto-nao-entregue_OYqnGytykbQyqseU/', 'https://www.reclameaqui.com.br/temu/da-temu_QzGM1UcQYYmc0otK/']\n",
      "['https://www.reclameaqui.com.br/temu/falta-de-responsabilidade_5bTwGuxms9Sl0JCd/', 'https://www.reclameaqui.com.br/temu/sac-eficiente_JsGpE1prTRL_lMdC/', 'https://www.reclameaqui.com.br/temu/propaganda-enganosa-e-tapeacao_ahoMy1O6H1draEaN/', 'https://www.reclameaqui.com.br/temu/fiz-uma-compra-errada-e-a-temu-nao-me-fez-o-reembolso-para-a-minha-contae-deixou-meu-saldo-em-credito-para-comprar-la-e-esta-mostrando-q-eu-nao-tenho-saldo-em-credito-e-esta-uma-dificuldade-para-resgatar-o-saldo-e-comprar-c-esse-valor-de-5617_GUxnexidxIeRaWlC/', 'https://www.reclameaqui.com.br/temu/meu-pedido-nao-aparece-depois-do-pagamento_iwoT9eoFLQZzmbR8/', 'https://www.reclameaqui.com.br/temu/pagamento-sem-a-mercadoria_9X_aIkSlplmBxk6x/', 'https://www.reclameaqui.com.br/temu/entregador-mentindo_yUDXAMi-nyJjk5pY/', 'https://www.reclameaqui.com.br/temu/empresa-ficou-com-meu-credito-de-reembolso_x-ru7EKAKsSkjrzy/', 'https://www.reclameaqui.com.br/temu/produto-nao-entregue_OYqnGytykbQyqseU/', 'https://www.reclameaqui.com.br/temu/da-temu_QzGM1UcQYYmc0otK/']\n"
     ]
    }
   ],
   "source": [
    "# pegando hyperlinks das reclamações respondidas\n",
    "\n",
    "driver.get(url_r(page=1, type='EVALUATED'))\n",
    "\n",
    "all_hyperlinks = []\n",
    "\n",
    "Numero_de_paginas = 50 # máximo de 50 páginas\n",
    "\n",
    "for i in range(Numero_de_paginas):\n",
    "   try:\n",
    "      div_hyperlinks = driver.find_elements(By.CSS_SELECTOR, 'div.sc-1pe7b5t-0.eJgBOc') # div dos hyperlinks das reclamações\n",
    "      \n",
    "      hyperlinks = [h.find_element(By.CSS_SELECTOR, 'a').get_attribute('href') for h in div_hyperlinks] # pegando os hyperlinks\n",
    "      \n",
    "      print(hyperlinks)\n",
    "      \n",
    "      all_hyperlinks.extend(hyperlinks)\n",
    "      \n",
    "      botao = driver.find_element(By.CSS_SELECTOR, \"button[data-testid='next-page-navigation-button']\")\n",
    "      driver.execute_script(\"arguments[0].click();\", botao)\n",
    "\n",
    "      time.sleep(random.randint(3, 6))\n",
    "      \n",
    "   except:\n",
    "      \n",
    "      break\n",
    "   \n",
    "   \n",
    "print(all_hyperlinks)\n",
    "   "
   ]
  },
  {
   "cell_type": "code",
   "execution_count": 216,
   "metadata": {},
   "outputs": [
    {
     "ename": "NoSuchWindowException",
     "evalue": "Message: no such window: target window already closed\nfrom unknown error: web view not found\n  (Session info: chrome=134.0.6998.166)\nStacktrace:\n\tGetHandleVerifier [0x00F0C7F3+24435]\n\t(No symbol) [0x00E92074]\n\t(No symbol) [0x00D606E3]\n\t(No symbol) [0x00D3F83E]\n\t(No symbol) [0x00DD455E]\n\t(No symbol) [0x00DEEB19]\n\t(No symbol) [0x00DCD5B6]\n\t(No symbol) [0x00D9C54F]\n\t(No symbol) [0x00D9D894]\n\tGetHandleVerifier [0x012170A3+3213347]\n\tGetHandleVerifier [0x0122B0C9+3295305]\n\tGetHandleVerifier [0x0122558C+3271948]\n\tGetHandleVerifier [0x00FA7360+658144]\n\t(No symbol) [0x00E9B27D]\n\t(No symbol) [0x00E98208]\n\t(No symbol) [0x00E983A9]\n\t(No symbol) [0x00E8AAC0]\n\tBaseThreadInitThunk [0x75387BA9+25]\n\tRtlInitializeExceptionChain [0x7749C2EB+107]\n\tRtlClearBits [0x7749C26F+191]\n",
     "output_type": "error",
     "traceback": [
      "\u001b[1;31m---------------------------------------------------------------------------\u001b[0m",
      "\u001b[1;31mNoSuchWindowException\u001b[0m                     Traceback (most recent call last)",
      "Cell \u001b[1;32mIn[216], line 5\u001b[0m\n\u001b[0;32m      1\u001b[0m \u001b[38;5;66;03m# pegando dados das reclamações respondidas\u001b[39;00m\n\u001b[0;32m      3\u001b[0m \u001b[38;5;28;01mfor\u001b[39;00m link \u001b[38;5;129;01min\u001b[39;00m all_hyperlinks:\n\u001b[1;32m----> 5\u001b[0m    \u001b[43mdriver\u001b[49m\u001b[38;5;241;43m.\u001b[39;49m\u001b[43mget\u001b[49m\u001b[43m(\u001b[49m\u001b[43mlink\u001b[49m\u001b[43m)\u001b[49m\n\u001b[0;32m      7\u001b[0m    time\u001b[38;5;241m.\u001b[39msleep(random\u001b[38;5;241m.\u001b[39mrandint(\u001b[38;5;241m4\u001b[39m, \u001b[38;5;241m8\u001b[39m))\n\u001b[0;32m     11\u001b[0m    reclamacao \u001b[38;5;241m=\u001b[39m {\n\u001b[0;32m     12\u001b[0m       \u001b[38;5;124m'\u001b[39m\u001b[38;5;124mtitulo\u001b[39m\u001b[38;5;124m'\u001b[39m: \u001b[38;5;28;01mNone\u001b[39;00m,\n\u001b[0;32m     13\u001b[0m       \u001b[38;5;124m'\u001b[39m\u001b[38;5;124mdata\u001b[39m\u001b[38;5;124m'\u001b[39m: \u001b[38;5;28;01mNone\u001b[39;00m,\n\u001b[0;32m     14\u001b[0m       \u001b[38;5;124m'\u001b[39m\u001b[38;5;124m...\u001b[39m\u001b[38;5;124m'\u001b[39m: \u001b[38;5;28;01mNone\u001b[39;00m\n\u001b[0;32m     15\u001b[0m    }\n",
      "File \u001b[1;32mc:\\Users\\sousa\\miniconda3\\Lib\\site-packages\\undetected_chromedriver\\__init__.py:665\u001b[0m, in \u001b[0;36mChrome.get\u001b[1;34m(self, url)\u001b[0m\n\u001b[0;32m    662\u001b[0m \u001b[38;5;28;01mdef\u001b[39;00m \u001b[38;5;21mget\u001b[39m(\u001b[38;5;28mself\u001b[39m, url):\n\u001b[0;32m    663\u001b[0m     \u001b[38;5;66;03m# if self._get_cdc_props():\u001b[39;00m\n\u001b[0;32m    664\u001b[0m     \u001b[38;5;66;03m#     self._hook_remove_cdc_props()\u001b[39;00m\n\u001b[1;32m--> 665\u001b[0m     \u001b[38;5;28;01mreturn\u001b[39;00m \u001b[38;5;28;43msuper\u001b[39;49m\u001b[43m(\u001b[49m\u001b[43m)\u001b[49m\u001b[38;5;241;43m.\u001b[39;49m\u001b[43mget\u001b[49m\u001b[43m(\u001b[49m\u001b[43murl\u001b[49m\u001b[43m)\u001b[49m\n",
      "File \u001b[1;32mc:\\Users\\sousa\\miniconda3\\Lib\\site-packages\\selenium\\webdriver\\remote\\webdriver.py:454\u001b[0m, in \u001b[0;36mWebDriver.get\u001b[1;34m(self, url)\u001b[0m\n\u001b[0;32m    436\u001b[0m \u001b[38;5;28;01mdef\u001b[39;00m \u001b[38;5;21mget\u001b[39m(\u001b[38;5;28mself\u001b[39m, url: \u001b[38;5;28mstr\u001b[39m) \u001b[38;5;241m-\u001b[39m\u001b[38;5;241m>\u001b[39m \u001b[38;5;28;01mNone\u001b[39;00m:\n\u001b[0;32m    437\u001b[0m \u001b[38;5;250m    \u001b[39m\u001b[38;5;124;03m\"\"\"Navigate the browser to the specified URL in the current window or\u001b[39;00m\n\u001b[0;32m    438\u001b[0m \u001b[38;5;124;03m    tab.\u001b[39;00m\n\u001b[0;32m    439\u001b[0m \n\u001b[1;32m   (...)\u001b[0m\n\u001b[0;32m    452\u001b[0m \u001b[38;5;124;03m    >>> driver.get(\"https://example.com\")\u001b[39;00m\n\u001b[0;32m    453\u001b[0m \u001b[38;5;124;03m    \"\"\"\u001b[39;00m\n\u001b[1;32m--> 454\u001b[0m     \u001b[38;5;28;43mself\u001b[39;49m\u001b[38;5;241;43m.\u001b[39;49m\u001b[43mexecute\u001b[49m\u001b[43m(\u001b[49m\u001b[43mCommand\u001b[49m\u001b[38;5;241;43m.\u001b[39;49m\u001b[43mGET\u001b[49m\u001b[43m,\u001b[49m\u001b[43m \u001b[49m\u001b[43m{\u001b[49m\u001b[38;5;124;43m\"\u001b[39;49m\u001b[38;5;124;43murl\u001b[39;49m\u001b[38;5;124;43m\"\u001b[39;49m\u001b[43m:\u001b[49m\u001b[43m \u001b[49m\u001b[43murl\u001b[49m\u001b[43m}\u001b[49m\u001b[43m)\u001b[49m\n",
      "File \u001b[1;32mc:\\Users\\sousa\\miniconda3\\Lib\\site-packages\\selenium\\webdriver\\remote\\webdriver.py:429\u001b[0m, in \u001b[0;36mWebDriver.execute\u001b[1;34m(self, driver_command, params)\u001b[0m\n\u001b[0;32m    427\u001b[0m response \u001b[38;5;241m=\u001b[39m \u001b[38;5;28mself\u001b[39m\u001b[38;5;241m.\u001b[39mcommand_executor\u001b[38;5;241m.\u001b[39mexecute(driver_command, params)\n\u001b[0;32m    428\u001b[0m \u001b[38;5;28;01mif\u001b[39;00m response:\n\u001b[1;32m--> 429\u001b[0m     \u001b[38;5;28;43mself\u001b[39;49m\u001b[38;5;241;43m.\u001b[39;49m\u001b[43merror_handler\u001b[49m\u001b[38;5;241;43m.\u001b[39;49m\u001b[43mcheck_response\u001b[49m\u001b[43m(\u001b[49m\u001b[43mresponse\u001b[49m\u001b[43m)\u001b[49m\n\u001b[0;32m    430\u001b[0m     response[\u001b[38;5;124m\"\u001b[39m\u001b[38;5;124mvalue\u001b[39m\u001b[38;5;124m\"\u001b[39m] \u001b[38;5;241m=\u001b[39m \u001b[38;5;28mself\u001b[39m\u001b[38;5;241m.\u001b[39m_unwrap_value(response\u001b[38;5;241m.\u001b[39mget(\u001b[38;5;124m\"\u001b[39m\u001b[38;5;124mvalue\u001b[39m\u001b[38;5;124m\"\u001b[39m, \u001b[38;5;28;01mNone\u001b[39;00m))\n\u001b[0;32m    431\u001b[0m     \u001b[38;5;28;01mreturn\u001b[39;00m response\n",
      "File \u001b[1;32mc:\\Users\\sousa\\miniconda3\\Lib\\site-packages\\selenium\\webdriver\\remote\\errorhandler.py:232\u001b[0m, in \u001b[0;36mErrorHandler.check_response\u001b[1;34m(self, response)\u001b[0m\n\u001b[0;32m    230\u001b[0m         alert_text \u001b[38;5;241m=\u001b[39m value[\u001b[38;5;124m\"\u001b[39m\u001b[38;5;124malert\u001b[39m\u001b[38;5;124m\"\u001b[39m]\u001b[38;5;241m.\u001b[39mget(\u001b[38;5;124m\"\u001b[39m\u001b[38;5;124mtext\u001b[39m\u001b[38;5;124m\"\u001b[39m)\n\u001b[0;32m    231\u001b[0m     \u001b[38;5;28;01mraise\u001b[39;00m exception_class(message, screen, stacktrace, alert_text)  \u001b[38;5;66;03m# type: ignore[call-arg]  # mypy is not smart enough here\u001b[39;00m\n\u001b[1;32m--> 232\u001b[0m \u001b[38;5;28;01mraise\u001b[39;00m exception_class(message, screen, stacktrace)\n",
      "\u001b[1;31mNoSuchWindowException\u001b[0m: Message: no such window: target window already closed\nfrom unknown error: web view not found\n  (Session info: chrome=134.0.6998.166)\nStacktrace:\n\tGetHandleVerifier [0x00F0C7F3+24435]\n\t(No symbol) [0x00E92074]\n\t(No symbol) [0x00D606E3]\n\t(No symbol) [0x00D3F83E]\n\t(No symbol) [0x00DD455E]\n\t(No symbol) [0x00DEEB19]\n\t(No symbol) [0x00DCD5B6]\n\t(No symbol) [0x00D9C54F]\n\t(No symbol) [0x00D9D894]\n\tGetHandleVerifier [0x012170A3+3213347]\n\tGetHandleVerifier [0x0122B0C9+3295305]\n\tGetHandleVerifier [0x0122558C+3271948]\n\tGetHandleVerifier [0x00FA7360+658144]\n\t(No symbol) [0x00E9B27D]\n\t(No symbol) [0x00E98208]\n\t(No symbol) [0x00E983A9]\n\t(No symbol) [0x00E8AAC0]\n\tBaseThreadInitThunk [0x75387BA9+25]\n\tRtlInitializeExceptionChain [0x7749C2EB+107]\n\tRtlClearBits [0x7749C26F+191]\n"
     ]
    }
   ],
   "source": [
    "# pegando dados das reclamações respondidas\n",
    "\n",
    "for link in all_hyperlinks:\n",
    "   \n",
    "   driver.get(link)\n",
    "   \n",
    "   time.sleep(random.randint(4, 8))\n",
    "   \n",
    "   \n",
    "   \n",
    "   reclamacao = {\n",
    "      'titulo': None,\n",
    "      'data': None,\n",
    "      '...': None\n",
    "   }\n",
    "   \n",
    "\n"
   ]
  }
 ],
 "metadata": {
  "kernelspec": {
   "display_name": "meu_ambiente",
   "language": "python",
   "name": "python3"
  },
  "language_info": {
   "codemirror_mode": {
    "name": "ipython",
    "version": 3
   },
   "file_extension": ".py",
   "mimetype": "text/x-python",
   "name": "python",
   "nbconvert_exporter": "python",
   "pygments_lexer": "ipython3",
   "version": "3.12.9"
  }
 },
 "nbformat": 4,
 "nbformat_minor": 2
}
