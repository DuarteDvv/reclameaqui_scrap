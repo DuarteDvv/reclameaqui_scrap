{
 "cells": [
  {
   "cell_type": "code",
   "execution_count": 10,
   "metadata": {},
   "outputs": [],
   "source": [
    "# Scrapping from reclameaqui.com.br\n",
    "\n",
    "import requests \n",
    "from bs4 import BeautifulSoup\n",
    "import pandas as pd\n",
    "import time\n",
    "import selenium\n",
    "import playwright\n",
    "\n"
   ]
  },
  {
   "cell_type": "code",
   "execution_count": 3,
   "metadata": {},
   "outputs": [],
   "source": [
    "# nome da empresa seguindo convenção do site reclameaqui.com.br\n",
    "empresa : str = 'temu'\n",
    "\n",
    "# URL da pagina principal da empresa\n",
    "url_p = 'https://www.reclameaqui.com.br/empresa/' + empresa + '/'\n",
    "\n",
    "# URL da pagina de reclamações da empresa\n",
    "url_r = 'https://www.reclameaqui.com.br/empresa/' + empresa + '/lista-reclamacoes/'\n"
   ]
  },
  {
   "cell_type": "code",
   "execution_count": 9,
   "metadata": {},
   "outputs": [
    {
     "name": "stdout",
     "output_type": "stream",
     "text": [
      "b'<!DOCTYPE html><html lang=\"en-US\"><head><title>Just a moment...</title><meta http-equiv=\"Content-Type\" content=\"text/html; charset=UTF-8\"><meta http-equiv=\"X-UA-Compatible\" content=\"IE=Edge\"><meta name=\"robots\" content=\"noindex,nofollow\"><meta name=\"viewport\" content=\"width=device-width,initial-scale=1\"><style>*{box-sizing:border-box;margin:0;padding:0}html{line-height:1.15;-webkit-text-size-adjust:100%;color:#313131;font-family:system-ui,-apple-system,BlinkMacSystemFont,Segoe UI,Roboto,Helvetica Neue,Arial,Noto Sans,sans-serif,Apple Color Emoji,Segoe UI Emoji,Segoe UI Symbol,Noto Color Emoji}body{display:flex;flex-direction:column;height:100vh;min-height:100vh}.main-content{margin:8rem auto;max-width:60rem;padding-left:1.5rem}@media (width <= 720px){.main-content{margin-top:4rem}}.h2{font-size:1.5rem;font-weight:500;line-height:2.25rem}@media (width <= 720px){.h2{font-size:1.25rem;line-height:1.5rem}}#challenge-error-text{background-image:url(data:image/svg+xml;base64,PHN2ZyB4bWxucz0iaHR0cDovL3d3dy53My5vcmcvMjAwMC9zdmciIHdpZHRoPSIzMiIgaGVpZ2h0PSIzMiIgZmlsbD0ibm9uZSI+PHBhdGggZmlsbD0iI0IyMEYwMyIgZD0iTTE2IDNhMTMgMTMgMCAxIDAgMTMgMTNBMTMuMDE1IDEzLjAxNSAwIDAgMCAxNiAzbTAgMjRhMTEgMTEgMCAxIDEgMTEtMTEgMTEuMDEgMTEuMDEgMCAwIDEtMTEgMTEiLz48cGF0aCBmaWxsPSIjQjIwRjAzIiBkPSJNMTcuMDM4IDE4LjYxNUgxNC44N0wxNC41NjMgOS41aDIuNzgzem0tMS4wODQgMS40MjdxLjY2IDAgMS4wNTcuMzg4LjQwNy4zODkuNDA3Ljk5NCAwIC41OTYtLjQwNy45ODQtLjM5Ny4zOS0xLjA1Ny4zODktLjY1IDAtMS4wNTYtLjM4OS0uMzk4LS4zODktLjM5OC0uOTg0IDAtLjU5Ny4zOTgtLjk4NS40MDYtLjM5NyAxLjA1Ni0uMzk3Ii8+PC9zdmc+);background-repeat:no-repeat;background-size:contain;padding-left:34px}@media (prefers-color-scheme:dark){body{background-color:#222;color:#d9d9d9}}</style><meta http-equiv=\"refresh\" content=\"390\"></head><body class=\"no-js\"><div class=\"main-wrapper\" role=\"main\"><div class=\"main-content\"><noscript><div class=\"h2\"><span id=\"challenge-error-text\">Enable JavaScript and cookies to continue</span></div></noscript></div></div><script>(function(){window._cf_chl_opt={cvId: \\'3\\',cZone: \"www.reclameaqui.com.br\",cType: \\'managed\\',cRay: \\'92358c969b316d7c\\',cH: \\'CpdLgzWK.t1ru3SB6z54E_dsFyYGwoTTFxAKaosBd2k-1742477269-1.2.1.1-FSwHIxDimoKy9XOqHxUnevGZr04QMH7YhckkrqdlYcRyp2RQbpo2OHWEZldkBRBk\\',cUPMDTk: \"\\\\/empresa\\\\/temu\\\\/lista-reclamacoes\\\\/?__cf_chl_tk=KANGVaHYUDfrgnNZy6pRuvTQ4nyVGUAq_iHT26Ndp10-1742477269-1.0.1.1-ned0CRu.xgjMhOTvCXRIe9dY5ha.6iBdlCP9ly.8IZA\",cFPWv: \\'b\\',cITimeS: \\'1742477269\\',cTTimeMs: \\'1000\\',cMTimeMs: \\'390000\\',cTplC: 0,cTplV: 5,cTplB: \\'cf\\',cK: \"\",fa: \"\\\\/empresa\\\\/temu\\\\/lista-reclamacoes\\\\/?__cf_chl_f_tk=KANGVaHYUDfrgnNZy6pRuvTQ4nyVGUAq_iHT26Ndp10-1742477269-1.0.1.1-ned0CRu.xgjMhOTvCXRIe9dY5ha.6iBdlCP9ly.8IZA\",md: \"hmhVwGloKZP7ByXg.PkYBLYs5HVnCcXmx7DkkBi2suQ-1742477269-1.2.1.1-DV2cdIvU91sWt18wHX2FrqC0eWxDnyFOvkyY4fmN8gBEqwiNS4s3zn..8VNJiBGX1ZakGeixBiB.LluMBnHFv_Nr5M0WiSII18WuWKHYRDII_SNedp2LeD0lVQ_8q0lxUBZEqScaQVv6LoE7Dez2dg61OVCX.3qrctOrWz6.Gaiz52opJSjzHnOf8wnS6HUDwbHc0m1NMljvWS8s7N_VVD8ffeBE5bi8xXPitPf3zsr2prUUoUTWtFBau86.t9tz8UdubpFcktdh0vb2TjYgp1rjM_VgbTvuv8oNNLf2SzA_ZCrpmZOcn5ryEulKmfogXWAiWhILJU8giLChTiW9u4KroX4nO_c.HS2nfcVlyPCJMwXN9xvWCf3BhrpIoaIycsPoOu4Q.1wkOUWibAUL5z5L2BQ3hssvuZRPHw9l3xVAlfFU1r_W0UCFSxaladZvztYVh1FYZbBJUuiHgVBaDPLQez_uOnup_o1ThRnrXehOceIjuBKyq3rheeQaZeUjq8f6xTtd_Z97xe6F8r4yeTNXv_Bfgcv.Ap3CSsZ0Do4ZayGS2ndKaOBvuOLjw6d5M9IxtD789cp_sEflXW5kCJh0QjM1aNzNIdls7ZUkAqFNBR0m9S97iGcLjdLtFGGRkW7iCAycglAzQeG0am.6aFwXxWjJV0rmrkevLwW7Y8b9y4Y3h2LuiPOL5.vaVs_RIyU2B7I8K00dpSWke4nJTixPMgSXWUb5ljxnvVqLsVucNhqjwjZfEwJ.zD_0FVISv0P9hjQPpXpLmVMzdAHM5k6gAUOMvqFkfXIsm74glMygaSf22WnFs99nlmIpinOdKTE7z4sbleM9wFZBJxnutVYf4ff3D6f7nIpzkeyyYdq4lqYwX_lhFrhLuCqAeqy6t9IiR539FwuKuuk9gfN9xrqWxKEWg80xLiGdxn9jDRwC38HpkQjMCF4qK_LZCR1suDzVumdUiGMSxVRtcUIgDbF8JLj03imYQ9_edDOcx0NFFfzdSPhCTafmy5japVJb00KuT8Y6fFduSZn7T8SRvkE8wQVKZkkf0HMZyKpb3wc8hSnWx_Anj3p3KJldmWANADRb4rDpA_jBV2YB.fpLqgVL_36QmA47akdHoO5Jd1s\",mdrd: \"whO.bbjn_OhqD8amZ86FedSDGDgq3SH6B_RTpZasNVE-1742477269-1.2.1.1-4YMclIwkJbfoTaU8nAxuRcG2LsaCNAxKYeXl0a32ztzmNcXVxuaSwktfFKKxVDi4DyLCNtRbbQuBSjeetkSMV7srokNmtJKQZq2eg6RmvoAy4boOH1GyZwYEI7LEM4LGbC9y0Wt_H63J5gn4Q3gG_Ye333lwrPopdQ_9A1Mh3mMovmkadJx3B34sEEf9LLtSnr1.OhYOqL7JqO.5MrxznJiS5nL7.ieNZIg5WVTJeAai86ldWm9.fCvz3rsQNELG6kxkjJ8Ty_VcWTOIzA.mtwz3j4nX624pX69yYbZ85bwRA0IPMJTcIesGcVv4HVImha39E82gxobyXxOV5f1RVjSNdMwZCNgfg.wU4uNlKmNrMvngBW0KaGt894hGS_jgZnSLq48ZZrjAfmNnznw66wM4FA7pDEZ4oe2N2S1.dLuRl1TlBGuD0Zi9k3TRa0epXX2oAbpYeGr7y5gsKhW_rhsFi1FAk90Kzb.x3RZSA_2d9AbHLECDEVXaDiNuTllQ.gPBIOuSxOggsdLOR4D8McSyvWCbHH8vNvK6GQKQBeTGULxLIqgdGicg.YZdt4tMZNt_ecXqatVhe5f3IVUrvl2yxNhyM_nlf7j6tY9x6MiSzb1I0Ff2mcsV0TKaJ5.KlhjtUXps7yB.6SiS.U7WibUtM4ug1MLkia6HBg0_Gk97kXi7p_Svs4aTheNKgNof7vNsutLdI2vTWRihj55Y2lSgP2VTTwrrCWBP2n9QLXp0OjoJXTkIApOLLOwLhc8jWvSyfJRNOWNFyH04SYSqFtLUdXJ4pgUYLl9mFPB9LLZwAxudD70JWT3ums.GhrMajVdt7FILyKNbcqxnKWGNdEBLEvp_EaNXpmq5gvLW24PmO3YCV4Wh814CkKeX5Q5p5fqfjdm0A7EMQkbC.kpHqVnQJGOwpELuW67Le6YpsAYsKQh5r8SJCDBtH.uqE5U1Tenb486aGiEXtxgvPrK_PekN6m.vRfk8MdW6KxEhEF6GUbWPzKNDx.biqeyOQl3zgtoOiYAcUF4tqMS4RxOH0XvU2XTKRsLPzcqWzc0RU9Z4DrgLSSuy1KZYZZZIwZw.zo_aMAF1g0LXIUFY9lMyUdWii0m2h4iv6A_5G0W9uIuIrG9MoaXB8F5pDqj_YSVtVjafyee7AEkGAJOAa3Gy55ffFeXNZxIgQo76c7o.Gtuny.ZxSz4HkJfSjHvzPOZZ3Wmndvh180DpYrBivWTdC5c6vHyj5pVkNVXfsdkddnUsOylZpjTTATkggtxm1yWfSF0nvxCfaOrBhrlaM.cdpmlkT24LNSyx7YmWt8CRQwaLJLOAoP9YexK2YvPj3Lv9Xgi_lZ8A4zAj6.4w2o5Q8hfzIyyNYMuC0U6vCwHZ1eWYNVQ9SrOn8dM.R8lnFylhr9_9V2sLGft8sEav17U5JPRs622K7YrzNZ83jC6cY2__.rmP59WYSAzFiEkGcmaerCP3YY336Tfhji8r1urnkwnJ0IWGDgGqmiJYbraLKxc1PEgf3G8UFGkT4YXmuT1iKRsKhArVsEO9Vf429A78XT3C0L_zP0CDi5SFaV8gL8toEYY3IZvodTWmVb5aMwIo.SLLlHFU26n.kxXu4s_njxYGk1gVUSKKmXndteDXa5WNZQwCc_KlHysSVI2XJpBwPdCeLVXMKEYEdMI7cDXaIeM.Hv.9iMeYADa3nqWlYezEgYM.R2XZUvkJMnXNpOlZJfVNpkOc1LaKy71hKLYqdajiGCjKYluKX18CORhabiDBgiUdAHOR_v0xz9r6Va_ZGR9Ltvagddt4TenrdzuBowJpxdGeGwJiqckPXAZB7KR4upOsfU3TNKN0tgwzy5ahlbe8ORfjBGtyfiAk.w_rRkjppdxo80gG4us_t6QyV._8CFWvOserjE_vjGpVFrbb.nKXrOq8gPBo_9zhZRS4JFNpzIyAG7AzFN.I3FizkzvQBKiAsZWQryoZgdVPqeNBG.6gHYDe.98XSzIdcKS3lpodqfBKfPFJEm1n8KTkDKRlF1APuAIO3RhTcdeDaYHuvLGnxNiq4K6_Wylk9VdAilFNAKvJEub1mSvC..56PFddX606hkfoA8waSGhYXXGXDwOpWIkxjLupUr3OhZoPUurMo7AaM_1UyMQacgatF85qCBXI7Wg4dLv3gHGvJniuJR1CIQZ65ChQG54b0MXJrW.6SUrCKBNVAj97WSOihcz9h21CRr4PacfdtzqU5eXSQrlvQF4TK1d2Sjro4TmVkEkfWqNng6gqE5YEUlqBAur474jrzOdTh7DkYdekfxnGUGhBQJN9p2xOMrophdPUHK8I5imsCgiX52ZPOg2Jw_f3pHl42yQZHOeiTEOrrf3r\"};var cpo = document.createElement(\\'script\\');cpo.src = \\'/cdn-cgi/challenge-platform/h/b/orchestrate/chl_page/v1?ray=92358c969b316d7c\\';window._cf_chl_opt.cOgUHash = location.hash === \\'\\' && location.href.indexOf(\\'#\\') !== -1 ? \\'#\\' : location.hash;window._cf_chl_opt.cOgUQuery = location.search === \\'\\' && location.href.slice(0, location.href.length - window._cf_chl_opt.cOgUHash.length).indexOf(\\'?\\') !== -1 ? \\'?\\' : location.search;if (window.history && window.history.replaceState) {var ogU = location.pathname + window._cf_chl_opt.cOgUQuery + window._cf_chl_opt.cOgUHash;history.replaceState(null, null, \"\\\\/empresa\\\\/temu\\\\/lista-reclamacoes\\\\/?__cf_chl_rt_tk=KANGVaHYUDfrgnNZy6pRuvTQ4nyVGUAq_iHT26Ndp10-1742477269-1.0.1.1-ned0CRu.xgjMhOTvCXRIe9dY5ha.6iBdlCP9ly.8IZA\" + window._cf_chl_opt.cOgUHash);cpo.onload = function() {history.replaceState(null, null, ogU);}}document.getElementsByTagName(\\'head\\')[0].appendChild(cpo);}());</script></body></html>'\n",
      "{'nome': 'temu', 'categoria': None, 'reputacao': None, 'sobre': None, 'desempenho_geral': None}\n"
     ]
    }
   ],
   "source": [
    "# pegando metadados da empresa (nome, categoria, reputação, sobre, desempenho_geral)\n",
    "def get_metadata(url):\n",
    "   headers = {\"User-Agent\": \"Mozilla/5.0\"}\n",
    "\n",
    "   page = requests.get(url, headers=headers)\n",
    "   soup = BeautifulSoup(page.content, 'html.parser')\n",
    "   \n",
    "   print(page.content)\n",
    "   \n",
    "   metadata = {\n",
    "      'nome': empresa,\n",
    "      'categoria': None,\n",
    "      'reputacao': None,\n",
    "      'sobre': None,\n",
    "      'desempenho_geral': None\n",
    "   }\n",
    "   \n",
    "   return metadata\n",
    "\n",
    "metadados = get_metadata(url_r)\n",
    "\n",
    "print(metadados)"
   ]
  }
 ],
 "metadata": {
  "kernelspec": {
   "display_name": "base",
   "language": "python",
   "name": "python3"
  },
  "language_info": {
   "codemirror_mode": {
    "name": "ipython",
    "version": 3
   },
   "file_extension": ".py",
   "mimetype": "text/x-python",
   "name": "python",
   "nbconvert_exporter": "python",
   "pygments_lexer": "ipython3",
   "version": "3.12.9"
  }
 },
 "nbformat": 4,
 "nbformat_minor": 2
}
