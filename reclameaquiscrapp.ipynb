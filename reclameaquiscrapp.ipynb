{
 "cells": [
  {
   "cell_type": "code",
   "execution_count": 180,
   "metadata": {},
   "outputs": [],
   "source": [
    "# Scrapping from reclameaqui.com.br\n",
    "import pandas as pd\n",
    "import time\n",
    "from selenium import webdriver\n",
    "from selenium.webdriver.firefox.options import Options\n",
    "from selenium.webdriver.firefox.service import Service\n",
    "import os\n",
    "from selenium.webdriver.common.by import By\n"
   ]
  },
  {
   "cell_type": "code",
   "execution_count": 181,
   "metadata": {},
   "outputs": [],
   "source": [
    "# nome da empresa seguindo convenção do site reclameaqui.com.br\n",
    "empresa : str = 'temu'\n",
    "\n",
    "# URL da pagina principal da empresa\n",
    "url_p = 'https://www.reclameaqui.com.br/empresa/' + empresa + '/'\n",
    "\n",
    "# URL da pagina de reclamações da empresa\n",
    "def url_r(page : int, type : str = 'EVALUATED') -> str:\n",
    "\n",
    "    # https://www.reclameaqui.com.br/empresa/temu/lista-reclamacoes/?pagina=1&status=EVALUATED\n",
    "    return 'https://www.reclameaqui.com.br/empresa/' + empresa + '/lista-reclamacoes/?pagina='+ str(page) +'&status=' + type\n",
    "\n"
   ]
  },
  {
   "cell_type": "code",
   "execution_count": 182,
   "metadata": {},
   "outputs": [],
   "source": [
    "# Configurações do navegador\n",
    "ff_options = Options()\n",
    "ff_options.headless = False\n",
    "ff_options.add_argument(\"--disable-gpu\")\n",
    "ff_options.add_argument(\"--disable-extensions\")\n",
    "ff_options.add_argument(\"--no-sandbox\")\n",
    "ff_options.add_argument(\"--disable-dev-shm-usage\")\n",
    "ff_options.add_argument(\"--disable-popup-blocking\")\n",
    "ff_options.add_argument(\"--disable-extensions\")\n",
    "ff_options.set_preference(\"general.useragent.override\", \"Mozilla/5.0 (Windows NT 10.0; Win64; x64) AppleWebKit/537.36 (KHTML, like Gecko) Chrome/91.0.4472.124 Safari/537.36\")\n",
    "\n",
    "\n",
    "# Configurações do serviço\n",
    "if os.name == 'nt': # Windows\n",
    "    service = Service('./geckodriver.exe')\n",
    "else: # Linux\n",
    "    service = Service('./geckodriver')\n",
    "\n",
    "\n"
   ]
  },
  {
   "cell_type": "code",
   "execution_count": 183,
   "metadata": {},
   "outputs": [
    {
     "name": "stdout",
     "output_type": "stream",
     "text": [
      "{'nome': 'temu', 'categoria': 'Varejo', 'reputacao': 'Não Recomendada', 'sobre': 'A Temu é uma empresa de comércio eletrônico que conecta consumidores a milhões de parceiros de mercadorias, fabricantes e marcas com a missão de capacitá-los a viver uma vida melhor.'}\n"
     ]
    }
   ],
   "source": [
    "# pegando metadados da empresa (nome, categoria, reputação, sobre)\n",
    "\n",
    "# driver\n",
    "driver = webdriver.Firefox(options=ff_options, service=service)\n",
    "\n",
    "# acessando a pagina principal da empresa\n",
    "driver.get(url_p)\n",
    "   \n",
    "# ramo de atividade da empresa\n",
    "categoria = driver.find_element(By.ID, 'info_segmento_hero').text\n",
    "\n",
    "# reputação da empresa\n",
    "reputacao = driver.find_element(By.ID, 'tag_reputacao_hero').text\n",
    "\n",
    "# sobre a empresa\n",
    "sobre = driver.find_element(By.CSS_SELECTOR, 'ul.sc-1915fv4-2.idgfcC').text\n",
    "sobre = sobre.split(\"\\n\")[0] \n",
    "\n",
    "metadata = {\n",
    "   'nome': empresa,\n",
    "   'categoria': categoria,         \n",
    "   'reputacao': reputacao,         \n",
    "   'sobre': sobre       \n",
    "}\n",
    "\n",
    "\n",
    "print(metadata)\n",
    "\n",
    "driver.quit()"
   ]
  },
  {
   "cell_type": "code",
   "execution_count": 184,
   "metadata": {},
   "outputs": [],
   "source": [
    "# pegando hyperlinks das reclamações respondidas\n",
    "\n",
    "driver = webdriver.Firefox(options=ff_options, service=service)\n",
    "\n",
    "driver.get(url_r(page=1, type='EVALUATED'))\n",
    "\n",
    "botao = driver.find_element(By.CSS_SELECTOR, 'button.sc-dGCmGc.fwysUb')\n",
    "botao.click()\n",
    "\n",
    "time.sleep(5)\n",
    "\n",
    "\n",
    "\n",
    "\n",
    "\n",
    "\n",
    "   \n",
    "\n",
    "    \n",
    "\n",
    "    \n",
    "\n",
    "    \n",
    "\n",
    "\n",
    "   "
   ]
  },
  {
   "cell_type": "code",
   "execution_count": 185,
   "metadata": {},
   "outputs": [],
   "source": [
    "# pegando dados das reclamações respondidas\n",
    "\n",
    "\n"
   ]
  }
 ],
 "metadata": {
  "kernelspec": {
   "display_name": "meu_ambiente",
   "language": "python",
   "name": "python3"
  },
  "language_info": {
   "codemirror_mode": {
    "name": "ipython",
    "version": 3
   },
   "file_extension": ".py",
   "mimetype": "text/x-python",
   "name": "python",
   "nbconvert_exporter": "python",
   "pygments_lexer": "ipython3",
   "version": "3.12.9"
  }
 },
 "nbformat": 4,
 "nbformat_minor": 2
}
