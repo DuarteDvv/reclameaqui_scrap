{
 "cells": [
  {
   "cell_type": "code",
   "execution_count": 37,
   "metadata": {},
   "outputs": [],
   "source": [
    "# Scrapping from reclameaqui.com.br\n",
    "import pandas as pd\n",
    "import time\n",
    "from selenium import webdriver\n",
    "from selenium.webdriver.firefox.options import Options\n",
    "from selenium.webdriver.firefox.service import Service\n",
    "\n",
    "from selenium.webdriver.common.by import By\n"
   ]
  },
  {
   "cell_type": "code",
   "execution_count": 61,
   "metadata": {},
   "outputs": [],
   "source": [
    "# nome da empresa seguindo convenção do site reclameaqui.com.br\n",
    "empresa : str = 'temu'\n",
    "\n",
    "# URL da pagina principal da empresa\n",
    "url_p = 'https://www.reclameaqui.com.br/empresa/' + empresa + '/'\n",
    "\n",
    "# URL da pagina de reclamações da empresa\n",
    "url_r = 'https://www.reclameaqui.com.br/empresa/' + empresa + '/lista-reclamacoes/'\n",
    "\n"
   ]
  },
  {
   "cell_type": "code",
   "execution_count": 62,
   "metadata": {},
   "outputs": [],
   "source": [
    "# Configurações do navegador\n",
    "ff_options = Options()\n",
    "ff_options.headless = False\n",
    "\n",
    "# Configurações do serviço\n",
    "service = Service('geckodriver.exe')\n",
    "\n",
    "# driver\n",
    "driver = webdriver.Firefox(options=ff_options, service=service)\n",
    "\n",
    "# acessando a pagina principal da empresa\n",
    "driver.get(url_p)\n",
    "\n"
   ]
  },
  {
   "cell_type": "code",
   "execution_count": null,
   "metadata": {},
   "outputs": [
    {
     "name": "stdout",
     "output_type": "stream",
     "text": [
      "{'nome': 'temu', 'categoria': 'Varejo', 'reputacao': 'Não Recomendada', 'sobre': 'A Temu é uma empresa de comércio eletrônico que conecta consumidores a milhões de parceiros de mercadorias, fabricantes e marcas com a missão de capacitá-los a viver uma vida melhor.', 'desempenho_geral': None}\n"
     ]
    }
   ],
   "source": [
    "# pegando metadados da empresa (nome, categoria, reputação, sobre, desempenho_geral)\n",
    "def get_metadata(driver):\n",
    "   \n",
    "   \n",
    "   \n",
    "   categoria = driver.find_element(By.ID, 'info_segmento_hero').text\n",
    "   \n",
    "   reputacao = driver.find_element(By.ID, 'tag_reputacao_hero').text\n",
    "   \n",
    "   sobre = driver.find_element(By.CSS_SELECTOR, 'ul.sc-1915fv4-2.idgfcC').text\n",
    "   sobre = sobre.split(\"\\n\")[0]\n",
    "   \n",
    "   desempenho_geral = None\n",
    "   \n",
    "   \n",
    "   \n",
    "   \n",
    "   \n",
    "   \n",
    "   metadata = {\n",
    "      'nome': empresa,\n",
    "      'categoria': categoria,         \n",
    "      'reputacao': reputacao,         \n",
    "      'sobre': sobre,             \n",
    "      'desempenho_geral': desempenho_geral  \n",
    "   }\n",
    "   \n",
    "   return metadata\n",
    "      \n",
    "      \n",
    "\n",
    "\n",
    "metadata = get_metadata(driver)\n",
    "print(metadata)"
   ]
  },
  {
   "cell_type": "code",
   "execution_count": null,
   "metadata": {},
   "outputs": [],
   "source": [
    "driver.quit()"
   ]
  }
 ],
 "metadata": {
  "kernelspec": {
   "display_name": "base",
   "language": "python",
   "name": "python3"
  },
  "language_info": {
   "codemirror_mode": {
    "name": "ipython",
    "version": 3
   },
   "file_extension": ".py",
   "mimetype": "text/x-python",
   "name": "python",
   "nbconvert_exporter": "python",
   "pygments_lexer": "ipython3",
   "version": "3.12.9"
  }
 },
 "nbformat": 4,
 "nbformat_minor": 2
}
