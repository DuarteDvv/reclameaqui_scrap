{
 "cells": [
  {
   "cell_type": "code",
   "execution_count": 1,
   "metadata": {},
   "outputs": [],
   "source": [
    "# Scrapping from reclameaqui.com.br\n",
    "import pandas as pd\n",
    "import time\n",
    "import random\n",
    "from selenium import webdriver\n",
    "from selenium.webdriver.firefox.options import Options\n",
    "from selenium.webdriver.firefox.service import Service\n",
    "from webdriver_manager.firefox import GeckoDriverManager\n",
    "import os \n",
    "from selenium.webdriver.common.by import By\n",
    "# import undetected_chromedriver as uc\n"
   ]
  },
  {
   "cell_type": "code",
   "execution_count": 2,
   "metadata": {},
   "outputs": [],
   "source": [
    "# nome da empresa seguindo convenção do site reclameaqui.com.br\n",
    "empresa : str = 'banco-do-brasil'\n",
    "\n",
    "# URL da pagina principal da empresa\n",
    "url_p = 'https://www.reclameaqui.com.br/empresa/' + empresa + '/'\n",
    "\n",
    "# URL da pagina de reclamações da empresa\n",
    "def url_r(page : int, type : str = 'EVALUATED') -> str:\n",
    "\n",
    "    # https://www.reclameaqui.com.br/empresa/temu/lista-reclamacoes/?pagina=1&status=EVALUATED\n",
    "    return 'https://www.reclameaqui.com.br/empresa/' + empresa + '/lista-reclamacoes/?pagina='+ str(page) +'&status=' + type\n",
    "\n"
   ]
  },
  {
   "cell_type": "code",
   "execution_count": 18,
   "metadata": {},
   "outputs": [],
   "source": [
    "# pegando metadados da empresa (nome, categoria, reputação, sobre)\n",
    "\n",
    "# driver\n",
    "firefox_options = Options()\n",
    "firefox_options.add_argument(\"--start-maximized\")  # Start maximized (not always supported)\n",
    "#firefox_options.add_argument(\"--headless\")  # Run headless (optional)\n",
    "service = Service(GeckoDriverManager().install())\n",
    "driver = webdriver.Firefox(service=service, options=firefox_options)"
   ]
  },
  {
   "cell_type": "code",
   "execution_count": null,
   "metadata": {},
   "outputs": [
    {
     "name": "stdout",
     "output_type": "stream",
     "text": [
      "{'nome': 'banco-do-brasil', 'categoria': 'Bancos e Financeiras', 'reputacao': 'Bom', 'sobre': 'O BB é um banco de economia mista e a maior instituição financeira do país, com mais de 210 anos de história. Possui cerca de 5 mil agências localizadas na maioria dos municípios brasileiros.'}\n"
     ]
    }
   ],
   "source": [
    "\n",
    "# acessando a pagina principal da empresa\n",
    "driver.get(url_p)\n",
    "\n",
    "time.sleep(random.randint(4,6))\n",
    "   \n",
    "# ramo de atividade da empresa\n",
    "categoria = driver.find_element(By.ID, 'info_segmento_hero').text\n",
    "\n",
    "# reputação da empresa\n",
    "reputacao = driver.find_element(By.ID, 'tag_reputacao_hero').text\n",
    "\n",
    "# sobre a empresa\n",
    "sobre = driver.find_element(By.CSS_SELECTOR, 'ul.sc-1915fv4-2.idgfcC').text\n",
    "sobre = sobre.split(\"\\n\")[0] \n",
    "\n",
    "metadata = {\n",
    "   'nome': empresa,\n",
    "   'categoria': categoria,         \n",
    "   'reputacao': reputacao,         \n",
    "   'sobre': sobre       \n",
    "}\n",
    "\n",
    "\n",
    "print(metadata)\n"
   ]
  },
  {
   "cell_type": "code",
   "execution_count": 230,
   "metadata": {},
   "outputs": [
    {
     "name": "stdout",
     "output_type": "stream",
     "text": [
      "['https://www.reclameaqui.com.br/banco-do-brasil/cobranca-anuidade_Lk-6AKyO3vU8Cq0p/', 'https://www.reclameaqui.com.br/banco-do-brasil/demora-em-reconhecer-pagamento_f9jqZrP4JrtDNuAC/', 'https://www.reclameaqui.com.br/banco-do-brasil/anuidade-cartao_4s9HVo3RsytfvmrF/', 'https://www.reclameaqui.com.br/banco-do-brasil/consignado-recusado-diversas-vezes_7q--vrnhUVTnxSrA/', 'https://www.reclameaqui.com.br/banco-do-brasil/conta-limitada_JnZAp_2CwwTwqFQH/', 'https://www.reclameaqui.com.br/banco-do-brasil/informe-de-rendimentos-escriturais_iUGxLmfu_XFxsj8q/', 'https://www.reclameaqui.com.br/banco-do-brasil/cobranca-tributos-irregular_cs6Fv2-fYtL2qkf3/', 'https://www.reclameaqui.com.br/banco-do-brasil/envio-de-salario-para-o-banco-indevido_zNSlMbKmmLEbLRAd/', 'https://www.reclameaqui.com.br/banco-do-brasil/numero-clonado-do-banco-do-brasil_6XDjhyATvwqxqZTc/', 'https://www.reclameaqui.com.br/banco-do-brasil/colocou-meu-nome-no-serasa_AdZqk52AkjSpRa9l/']\n",
      "['https://www.reclameaqui.com.br/banco-do-brasil/conta-encerrada-informe-de-rendimento-2024_GGP_wpuEyFnGmKuv/', 'https://www.reclameaqui.com.br/banco-do-brasil/abono-salarial_36ek037WJob8GLcD/', 'https://www.reclameaqui.com.br/banco-do-brasil/conta-bloqueada_jTA4AuxHLUQu-e2q/', 'https://www.reclameaqui.com.br/banco-do-brasil/segunda-via-contrato-fies_HvpK4BzSgnYL36b6/', 'https://www.reclameaqui.com.br/banco-do-brasil/cobranca-endevida_7iuD8_R-nPfZpfVK/', 'https://www.reclameaqui.com.br/banco-do-brasil/apple-pay_qztJ8dpYrCc9dL_j/', 'https://www.reclameaqui.com.br/banco-do-brasil/abertura-de-conta-poupanca_v9QMpIK8w-gn8Dm-/', 'https://www.reclameaqui.com.br/banco-do-brasil/fatura-banco-do-brasil_nASUFR2Onl4MZxd7/', 'https://www.reclameaqui.com.br/banco-do-brasil/solicitacao-de-exclusao-de-cadastro-no-cadastro-de-restricoes-src-do-banco-central_f5WahLsQJ-ITfgV8/', 'https://www.reclameaqui.com.br/banco-do-brasil/agencia-e-conta_oVbXZGWknuHRDSen/']\n",
      "['https://www.reclameaqui.com.br/banco-do-brasil/informe-de-rendimentos-de-conta-encerrada_aLqxy-t-NwIffBbv/', 'https://www.reclameaqui.com.br/banco-do-brasil/banco-do-brasil-esta-cobrando-divida-de-2006_8uXTXqWBUNDk7BZI/', 'https://www.reclameaqui.com.br/banco-do-brasil/senha-bloqueada_m-BPTTd_PWccY5n0/', 'https://www.reclameaqui.com.br/banco-do-brasil/problema-com-o-cartao-de-credito_oOdOsEvJWd2K5rKs/', 'https://www.reclameaqui.com.br/banco-do-brasil/login-indisponivel_VndCT6ujYXf4wWhR/', 'https://www.reclameaqui.com.br/banco-do-brasil/dificuldade-em-finalizar-portabilidade-para-outro-banco_AHDtd0ZDEZg8_9lz/', 'https://www.reclameaqui.com.br/banco-do-brasil/quero-resgatar-meu-cdb_mH_LDMdIE_oHes7s/', 'https://www.reclameaqui.com.br/banco-do-brasil/funcao-de-aproximacao-do-cartao-adicional-parou-de-funcionar_rcyf4F9RZYpbKStZ/', 'https://www.reclameaqui.com.br/banco-do-brasil/aplicativo-instavel_44IVywGpMa00_DmY/', 'https://www.reclameaqui.com.br/banco-do-brasil/cobranca-de-unuidade_5hqXCEALUZhNZBJM/']\n",
      "['https://www.reclameaqui.com.br/banco-do-brasil/validacao-aplicativo-no-celular_KWuYRXRLHOwy9ZD7/', 'https://www.reclameaqui.com.br/banco-do-brasil/nao-consigo-usar-meu-cartao-de-credito_Jp2tHbwkMrv74tMA/', 'https://www.reclameaqui.com.br/banco-do-brasil/renegociacao-dividas_BalHRSWhuOpYpoWV/', 'https://www.reclameaqui.com.br/banco-do-brasil/banco-do-brasil-nao-aceita-cadastrar-chave-pix_5RvIqw9iodKiLCK2/', 'https://www.reclameaqui.com.br/banco-do-brasil/cartao-de-credito_ywediK81rDZ9u6Va/', 'https://www.reclameaqui.com.br/banco-do-brasil/descaso_a8libIsADMPkiLOI/', 'https://www.reclameaqui.com.br/banco-do-brasil/recibo-de-incidente-de-deposito-na-conta-corrente-banco-do-brasil_YTZUmoAYfD7Dt7Dm/', 'https://www.reclameaqui.com.br/banco-do-brasil/cobranca-indevida-e-abusiva-de-anuidade_iEtaDjJd2aZsroCr/', 'https://www.reclameaqui.com.br/banco-do-brasil/conta-bloqueada_8aXh0efWvnMSpYEm/', 'https://www.reclameaqui.com.br/banco-do-brasil/aplicativo-fora-do-ar_ic7v2N91A4x9RW8o/']\n",
      "['https://www.reclameaqui.com.br/banco-do-brasil/banco-do-brasil-informe-de-rendimentos-conta-encerrada_tA8oFBQ4K0bVkTrU/', 'https://www.reclameaqui.com.br/banco-do-brasil/fiz-acordo-com-o-bb-estou-pagando-as-parcelas-e-gostaria-que-meu-nome-saisse-do-registrato_zwc7Q0XRZw-XxbAa/', 'https://www.reclameaqui.com.br/banco-do-brasil/estou-com-meu-cpf-cadastrado-no-pix-na-conta_0IedGzmIkHdvGc8Y/', 'https://www.reclameaqui.com.br/banco-do-brasil/cobranca-indevida-em-lancamento-futuro_Qk2IFXG5s6MfmP5B/', 'https://www.reclameaqui.com.br/banco-do-brasil/informe-de-rendimentos-incompleto_-119s2M--Zy0ZGZ4/', 'https://www.reclameaqui.com.br/banco-do-brasil/cobranca-de-anuidade-indevida_Gy3AF8kgdjcm6MY7/', 'https://www.reclameaqui.com.br/banco-do-brasil/cadrastro_vXcso92TdXMYIJqT/', 'https://www.reclameaqui.com.br/banco-do-brasil/efetuei-compra-pela-internet-solicitei-2-dias-apos-a-compra-o-reembolso-no-cartao-de-credito-bb-alegando-direito-ao-arrependimento-que-todos-temos-ate-7-dias-uteis_L9j0Zkty_6apmXth/', 'https://www.reclameaqui.com.br/banco-do-brasil/aguardando-retorno-da-cblc-para-investir-no-tesouro-direto_1Esfhwj73M2nqBpj/', 'https://www.reclameaqui.com.br/banco-do-brasil/perdi-meu-limite_ztgDij7-K6ZiT5nf/']\n",
      "['https://www.reclameaqui.com.br/banco-do-brasil/cobranca-anuidade_Lk-6AKyO3vU8Cq0p/', 'https://www.reclameaqui.com.br/banco-do-brasil/demora-em-reconhecer-pagamento_f9jqZrP4JrtDNuAC/', 'https://www.reclameaqui.com.br/banco-do-brasil/anuidade-cartao_4s9HVo3RsytfvmrF/', 'https://www.reclameaqui.com.br/banco-do-brasil/consignado-recusado-diversas-vezes_7q--vrnhUVTnxSrA/', 'https://www.reclameaqui.com.br/banco-do-brasil/conta-limitada_JnZAp_2CwwTwqFQH/', 'https://www.reclameaqui.com.br/banco-do-brasil/informe-de-rendimentos-escriturais_iUGxLmfu_XFxsj8q/', 'https://www.reclameaqui.com.br/banco-do-brasil/cobranca-tributos-irregular_cs6Fv2-fYtL2qkf3/', 'https://www.reclameaqui.com.br/banco-do-brasil/envio-de-salario-para-o-banco-indevido_zNSlMbKmmLEbLRAd/', 'https://www.reclameaqui.com.br/banco-do-brasil/numero-clonado-do-banco-do-brasil_6XDjhyATvwqxqZTc/', 'https://www.reclameaqui.com.br/banco-do-brasil/colocou-meu-nome-no-serasa_AdZqk52AkjSpRa9l/', 'https://www.reclameaqui.com.br/banco-do-brasil/conta-encerrada-informe-de-rendimento-2024_GGP_wpuEyFnGmKuv/', 'https://www.reclameaqui.com.br/banco-do-brasil/abono-salarial_36ek037WJob8GLcD/', 'https://www.reclameaqui.com.br/banco-do-brasil/conta-bloqueada_jTA4AuxHLUQu-e2q/', 'https://www.reclameaqui.com.br/banco-do-brasil/segunda-via-contrato-fies_HvpK4BzSgnYL36b6/', 'https://www.reclameaqui.com.br/banco-do-brasil/cobranca-endevida_7iuD8_R-nPfZpfVK/', 'https://www.reclameaqui.com.br/banco-do-brasil/apple-pay_qztJ8dpYrCc9dL_j/', 'https://www.reclameaqui.com.br/banco-do-brasil/abertura-de-conta-poupanca_v9QMpIK8w-gn8Dm-/', 'https://www.reclameaqui.com.br/banco-do-brasil/fatura-banco-do-brasil_nASUFR2Onl4MZxd7/', 'https://www.reclameaqui.com.br/banco-do-brasil/solicitacao-de-exclusao-de-cadastro-no-cadastro-de-restricoes-src-do-banco-central_f5WahLsQJ-ITfgV8/', 'https://www.reclameaqui.com.br/banco-do-brasil/agencia-e-conta_oVbXZGWknuHRDSen/', 'https://www.reclameaqui.com.br/banco-do-brasil/informe-de-rendimentos-de-conta-encerrada_aLqxy-t-NwIffBbv/', 'https://www.reclameaqui.com.br/banco-do-brasil/banco-do-brasil-esta-cobrando-divida-de-2006_8uXTXqWBUNDk7BZI/', 'https://www.reclameaqui.com.br/banco-do-brasil/senha-bloqueada_m-BPTTd_PWccY5n0/', 'https://www.reclameaqui.com.br/banco-do-brasil/problema-com-o-cartao-de-credito_oOdOsEvJWd2K5rKs/', 'https://www.reclameaqui.com.br/banco-do-brasil/login-indisponivel_VndCT6ujYXf4wWhR/', 'https://www.reclameaqui.com.br/banco-do-brasil/dificuldade-em-finalizar-portabilidade-para-outro-banco_AHDtd0ZDEZg8_9lz/', 'https://www.reclameaqui.com.br/banco-do-brasil/quero-resgatar-meu-cdb_mH_LDMdIE_oHes7s/', 'https://www.reclameaqui.com.br/banco-do-brasil/funcao-de-aproximacao-do-cartao-adicional-parou-de-funcionar_rcyf4F9RZYpbKStZ/', 'https://www.reclameaqui.com.br/banco-do-brasil/aplicativo-instavel_44IVywGpMa00_DmY/', 'https://www.reclameaqui.com.br/banco-do-brasil/cobranca-de-unuidade_5hqXCEALUZhNZBJM/', 'https://www.reclameaqui.com.br/banco-do-brasil/validacao-aplicativo-no-celular_KWuYRXRLHOwy9ZD7/', 'https://www.reclameaqui.com.br/banco-do-brasil/nao-consigo-usar-meu-cartao-de-credito_Jp2tHbwkMrv74tMA/', 'https://www.reclameaqui.com.br/banco-do-brasil/renegociacao-dividas_BalHRSWhuOpYpoWV/', 'https://www.reclameaqui.com.br/banco-do-brasil/banco-do-brasil-nao-aceita-cadastrar-chave-pix_5RvIqw9iodKiLCK2/', 'https://www.reclameaqui.com.br/banco-do-brasil/cartao-de-credito_ywediK81rDZ9u6Va/', 'https://www.reclameaqui.com.br/banco-do-brasil/descaso_a8libIsADMPkiLOI/', 'https://www.reclameaqui.com.br/banco-do-brasil/recibo-de-incidente-de-deposito-na-conta-corrente-banco-do-brasil_YTZUmoAYfD7Dt7Dm/', 'https://www.reclameaqui.com.br/banco-do-brasil/cobranca-indevida-e-abusiva-de-anuidade_iEtaDjJd2aZsroCr/', 'https://www.reclameaqui.com.br/banco-do-brasil/conta-bloqueada_8aXh0efWvnMSpYEm/', 'https://www.reclameaqui.com.br/banco-do-brasil/aplicativo-fora-do-ar_ic7v2N91A4x9RW8o/', 'https://www.reclameaqui.com.br/banco-do-brasil/banco-do-brasil-informe-de-rendimentos-conta-encerrada_tA8oFBQ4K0bVkTrU/', 'https://www.reclameaqui.com.br/banco-do-brasil/fiz-acordo-com-o-bb-estou-pagando-as-parcelas-e-gostaria-que-meu-nome-saisse-do-registrato_zwc7Q0XRZw-XxbAa/', 'https://www.reclameaqui.com.br/banco-do-brasil/estou-com-meu-cpf-cadastrado-no-pix-na-conta_0IedGzmIkHdvGc8Y/', 'https://www.reclameaqui.com.br/banco-do-brasil/cobranca-indevida-em-lancamento-futuro_Qk2IFXG5s6MfmP5B/', 'https://www.reclameaqui.com.br/banco-do-brasil/informe-de-rendimentos-incompleto_-119s2M--Zy0ZGZ4/', 'https://www.reclameaqui.com.br/banco-do-brasil/cobranca-de-anuidade-indevida_Gy3AF8kgdjcm6MY7/', 'https://www.reclameaqui.com.br/banco-do-brasil/cadrastro_vXcso92TdXMYIJqT/', 'https://www.reclameaqui.com.br/banco-do-brasil/efetuei-compra-pela-internet-solicitei-2-dias-apos-a-compra-o-reembolso-no-cartao-de-credito-bb-alegando-direito-ao-arrependimento-que-todos-temos-ate-7-dias-uteis_L9j0Zkty_6apmXth/', 'https://www.reclameaqui.com.br/banco-do-brasil/aguardando-retorno-da-cblc-para-investir-no-tesouro-direto_1Esfhwj73M2nqBpj/', 'https://www.reclameaqui.com.br/banco-do-brasil/perdi-meu-limite_ztgDij7-K6ZiT5nf/']\n"
     ]
    }
   ],
   "source": [
    "# pegando hyperlinks das reclamações respondidas\n",
    "\n",
    "driver.get(url_r(page=1, type='EVALUATED'))\n",
    "\n",
    "all_hyperlinks = []\n",
    "\n",
    "Numero_de_paginas = 50 # máximo de 50 páginas\n",
    "\n",
    "for i in range(Numero_de_paginas):\n",
    "   try:\n",
    "      div_hyperlinks = driver.find_elements(By.CSS_SELECTOR, 'div.sc-1pe7b5t-0.eJgBOc') # div dos hyperlinks das reclamações\n",
    "      \n",
    "      hyperlinks = [h.find_element(By.CSS_SELECTOR, 'a').get_attribute('href') for h in div_hyperlinks] # pegando os hyperlinks\n",
    "      \n",
    "      print(hyperlinks)\n",
    "      \n",
    "      all_hyperlinks.extend(hyperlinks)\n",
    "      \n",
    "      botao = driver.find_element(By.CSS_SELECTOR, \"button[data-testid='next-page-navigation-button']\")\n",
    "      driver.execute_script(\"arguments[0].click();\", botao)\n",
    "\n",
    "      time.sleep(random.randint(5, 8))\n",
    "      \n",
    "   except:\n",
    "      \n",
    "      break\n",
    "   \n",
    "   \n",
    "print(all_hyperlinks)\n",
    "   "
   ]
  },
  {
   "cell_type": "code",
   "execution_count": null,
   "metadata": {},
   "outputs": [],
   "source": [
    "# pegando dados das reclamações respondidas\n",
    "\n",
    "reclamacoes = []\n",
    "#for link in all_hyperlinks:\n",
    "for link in ['https://www.reclameaqui.com.br/banco-do-brasil/demora-em-reconhecer-pagamento_f9jqZrP4JrtDNuAC/']:\n",
    "   \n",
    "   try:\n",
    "      driver.get(link)\n",
    "\n",
    "      time.sleep(random.randint(5, 8))\n",
    "\n",
    "      titulo = driver.find_element(By.CSS_SELECTOR, '[data-testid=\"complaint-title\"]').text\n",
    "      lugar = driver.find_element(By.CSS_SELECTOR, '[data-testid=\"complaint-location\"]').text\n",
    "      data = driver.find_element(By.CSS_SELECTOR, '[data-testid=\"complaint-creation-date\"]').text\n",
    "      reclamacao_id = driver.find_element(By.CSS_SELECTOR, '[data-testid=\"complaint-id\"]').text\n",
    "      \n",
    "      reclamacao_id = (reclamacao_id.split('ID: ')[1])\n",
    "\n",
    "      parsed_data = time.strptime(data, '%d/%m/%Y às %H:%M')\n",
    "\n",
    "      reclamacao_base = driver.find_element(By.CSS_SELECTOR, '.sc-lzlu7c-17.fRVYjv').text\n",
    "      interacoes = driver.find_elements(By.CSS_SELECTOR, '[data-testid=\"complaint-interaction\"]')\n",
    "\n",
    "      interacoes_text = [i.text for i in interacoes]\n",
    "\n",
    "      again = driver.find_element(By.CSS_SELECTOR, '.sc-uh4o7z-0.bprQlw:nth-child(2) > div').text\n",
    "      rating = driver.find_element(By.CSS_SELECTOR, '.sc-uh4o7z-0.bprQlw:nth-child(3) > div').text\n",
    "\n",
    "      rating = int(rating.split()[0])\n",
    "      again = again == 'Sim'\n",
    "\n",
    "      reclamacao = {\n",
    "         'id': reclamacao_id,\n",
    "         'titulo': titulo,\n",
    "         'lugar': lugar,\n",
    "         'data': parsed_data,\n",
    "         'reclamacao_base': reclamacao_base,\n",
    "         'interacoes': interacoes_text,\n",
    "         'rating': rating,\n",
    "         'again': again\n",
    "      }\n",
    "\n",
    "      reclamacoes.append(reclamacao)\n",
    "      \n",
    "\n",
    "   except:\n",
    "      \n",
    "      continue\n",
    "\n",
    "print(reclamacoes)\n",
    "\n",
    "   \n",
    "# driver.quit()\n",
    "   \n",
    "\n"
   ]
  }
 ],
 "metadata": {
  "kernelspec": {
   "display_name": "env",
   "language": "python",
   "name": "python3"
  },
  "language_info": {
   "codemirror_mode": {
    "name": "ipython",
    "version": 3
   },
   "file_extension": ".py",
   "mimetype": "text/x-python",
   "name": "python",
   "nbconvert_exporter": "python",
   "pygments_lexer": "ipython3",
   "version": "3.12.9"
  }
 },
 "nbformat": 4,
 "nbformat_minor": 2
}
